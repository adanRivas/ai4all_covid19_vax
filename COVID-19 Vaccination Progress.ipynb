{
 "cells": [
  {
   "cell_type": "code",
   "execution_count": 54,
   "metadata": {},
   "outputs": [],
   "source": [
    "#Group1-Daniella Edieleyne Valdes-Vazquez, Ekdev Rajkitkul, Kristie Ulloa Yoshikawa\n",
    "import numpy as np \n",
    "import pandas as pd \n",
    "import matplotlib.pyplot as plt\n",
    "import seaborn as sns\n",
    "from sklearn import linear_model\n",
    "\n",
    "import warnings\n",
    "warnings.filterwarnings('ignore')\n",
    "\n"
   ]
  },
  {
   "cell_type": "code",
   "execution_count": 55,
   "metadata": {},
   "outputs": [],
   "source": [
    "vaccine_data = pd.read_csv(r'C:\\Users\\danie\\country_vaccinations.csv') "
   ]
  },
  {
   "cell_type": "code",
   "execution_count": 8,
   "metadata": {},
   "outputs": [
    {
     "data": {
      "text/plain": [
       "Denmark             353\n",
       "Norway              351\n",
       "Latvia              351\n",
       "United States       343\n",
       "Canada              342\n",
       "                   ... \n",
       "Pitcairn             85\n",
       "Tanzania             83\n",
       "Falkland Islands     67\n",
       "Niue                 43\n",
       "Burundi              28\n",
       "Name: country, Length: 223, dtype: int64"
      ]
     },
     "execution_count": 8,
     "metadata": {},
     "output_type": "execute_result"
    }
   ],
   "source": [
    "# Understanding our data and the values for each country\n",
    "vaccine_data['country'].value_counts()"
   ]
  },
  {
   "cell_type": "code",
   "execution_count": 9,
   "metadata": {},
   "outputs": [
    {
     "data": {
      "text/plain": [
       "country                                0.000000\n",
       "iso_code                               0.000000\n",
       "date                                   0.000000\n",
       "total_vaccinations                     0.461914\n",
       "people_vaccinated                      0.489134\n",
       "people_fully_vaccinated                0.536863\n",
       "daily_vaccinations_raw                 0.559785\n",
       "daily_vaccinations                     0.005233\n",
       "total_vaccinations_per_hundred         0.461914\n",
       "people_vaccinated_per_hundred          0.489134\n",
       "people_fully_vaccinated_per_hundred    0.536863\n",
       "daily_vaccinations_per_million         0.005233\n",
       "vaccines                               0.000000\n",
       "source_name                            0.000000\n",
       "source_website                         0.000000\n",
       "dtype: float64"
      ]
     },
     "execution_count": 9,
     "metadata": {},
     "output_type": "execute_result"
    }
   ],
   "source": [
    "#Shows percentage of how many missing values are in each colum.\n",
    "vaccine_data.isnull().sum() / vaccine_data.shape[0]"
   ]
  },
  {
   "cell_type": "code",
   "execution_count": 10,
   "metadata": {},
   "outputs": [
    {
     "data": {
      "text/plain": [
       "country                                0\n",
       "iso_code                               0\n",
       "date                                   0\n",
       "total_vaccinations                     0\n",
       "people_vaccinated                      0\n",
       "people_fully_vaccinated                0\n",
       "daily_vaccinations_raw                 0\n",
       "daily_vaccinations                     0\n",
       "total_vaccinations_per_hundred         0\n",
       "people_vaccinated_per_hundred          0\n",
       "people_fully_vaccinated_per_hundred    0\n",
       "daily_vaccinations_per_million         0\n",
       "vaccines                               0\n",
       "source_name                            0\n",
       "source_website                         0\n",
       "dtype: int64"
      ]
     },
     "execution_count": 10,
     "metadata": {},
     "output_type": "execute_result"
    }
   ],
   "source": [
    "#Drops the missing values in the dataframe\n",
    "clean_data = vaccine_data.dropna()\n",
    "\n",
    "#Checks to see if the above line worked (it did)\n",
    "clean_data.isnull().sum()"
   ]
  },
  {
   "cell_type": "code",
   "execution_count": 11,
   "metadata": {},
   "outputs": [
    {
     "name": "stdout",
     "output_type": "stream",
     "text": [
      "         country        date  people_fully_vaccinated\n",
      "94   Afghanistan  2021-05-27                 113739.0\n",
      "101  Afghanistan  2021-06-03                 148505.0\n",
      "305      Albania  2021-02-18                    611.0\n",
      "387      Albania  2021-05-11                 181586.0\n",
      "388      Albania  2021-05-12                 187921.0\n"
     ]
    }
   ],
   "source": [
    "#This line puts two columns in dataframe and drops rows with NA values\n",
    "sub_data = clean_data[[\"country\",\"date\",\"people_fully_vaccinated\"]]\n",
    "\n",
    "print(sub_data.head(5))"
   ]
  },
  {
   "cell_type": "code",
   "execution_count": 12,
   "metadata": {},
   "outputs": [
    {
     "data": {
      "text/plain": [
       "country                    0\n",
       "date                       0\n",
       "people_fully_vaccinated    0\n",
       "dtype: int64"
      ]
     },
     "execution_count": 12,
     "metadata": {},
     "output_type": "execute_result"
    }
   ],
   "source": [
    "#Double Checks to see if sub dataframe was done correctly\n",
    "sub_data.isnull().sum()"
   ]
  },
  {
   "cell_type": "code",
   "execution_count": 13,
   "metadata": {},
   "outputs": [
    {
     "data": {
      "text/html": [
       "<div>\n",
       "<style scoped>\n",
       "    .dataframe tbody tr th:only-of-type {\n",
       "        vertical-align: middle;\n",
       "    }\n",
       "\n",
       "    .dataframe tbody tr th {\n",
       "        vertical-align: top;\n",
       "    }\n",
       "\n",
       "    .dataframe thead th {\n",
       "        text-align: right;\n",
       "    }\n",
       "</style>\n",
       "<table border=\"1\" class=\"dataframe\">\n",
       "  <thead>\n",
       "    <tr style=\"text-align: right;\">\n",
       "      <th></th>\n",
       "      <th>country</th>\n",
       "      <th>date</th>\n",
       "      <th>people_fully_vaccinated</th>\n",
       "    </tr>\n",
       "  </thead>\n",
       "  <tbody>\n",
       "    <tr>\n",
       "      <th>56081</th>\n",
       "      <td>United States</td>\n",
       "      <td>2020-12-14</td>\n",
       "      <td>3961.0</td>\n",
       "    </tr>\n",
       "    <tr>\n",
       "      <th>56082</th>\n",
       "      <td>United States</td>\n",
       "      <td>2020-12-15</td>\n",
       "      <td>4156.0</td>\n",
       "    </tr>\n",
       "    <tr>\n",
       "      <th>56083</th>\n",
       "      <td>United States</td>\n",
       "      <td>2020-12-16</td>\n",
       "      <td>4538.0</td>\n",
       "    </tr>\n",
       "    <tr>\n",
       "      <th>56084</th>\n",
       "      <td>United States</td>\n",
       "      <td>2020-12-17</td>\n",
       "      <td>5100.0</td>\n",
       "    </tr>\n",
       "    <tr>\n",
       "      <th>56085</th>\n",
       "      <td>United States</td>\n",
       "      <td>2020-12-18</td>\n",
       "      <td>6084.0</td>\n",
       "    </tr>\n",
       "    <tr>\n",
       "      <th>...</th>\n",
       "      <td>...</td>\n",
       "      <td>...</td>\n",
       "      <td>...</td>\n",
       "    </tr>\n",
       "    <tr>\n",
       "      <th>56418</th>\n",
       "      <td>United States</td>\n",
       "      <td>2021-11-16</td>\n",
       "      <td>194387418.0</td>\n",
       "    </tr>\n",
       "    <tr>\n",
       "      <th>56419</th>\n",
       "      <td>United States</td>\n",
       "      <td>2021-11-17</td>\n",
       "      <td>194533746.0</td>\n",
       "    </tr>\n",
       "    <tr>\n",
       "      <th>56420</th>\n",
       "      <td>United States</td>\n",
       "      <td>2021-11-18</td>\n",
       "      <td>194627683.0</td>\n",
       "    </tr>\n",
       "    <tr>\n",
       "      <th>56421</th>\n",
       "      <td>United States</td>\n",
       "      <td>2021-11-19</td>\n",
       "      <td>194643878.0</td>\n",
       "    </tr>\n",
       "    <tr>\n",
       "      <th>56422</th>\n",
       "      <td>United States</td>\n",
       "      <td>2021-11-20</td>\n",
       "      <td>194643878.0</td>\n",
       "    </tr>\n",
       "  </tbody>\n",
       "</table>\n",
       "<p>342 rows × 3 columns</p>\n",
       "</div>"
      ],
      "text/plain": [
       "             country        date  people_fully_vaccinated\n",
       "56081  United States  2020-12-14                   3961.0\n",
       "56082  United States  2020-12-15                   4156.0\n",
       "56083  United States  2020-12-16                   4538.0\n",
       "56084  United States  2020-12-17                   5100.0\n",
       "56085  United States  2020-12-18                   6084.0\n",
       "...              ...         ...                      ...\n",
       "56418  United States  2021-11-16              194387418.0\n",
       "56419  United States  2021-11-17              194533746.0\n",
       "56420  United States  2021-11-18              194627683.0\n",
       "56421  United States  2021-11-19              194643878.0\n",
       "56422  United States  2021-11-20              194643878.0\n",
       "\n",
       "[342 rows x 3 columns]"
      ]
     },
     "execution_count": 13,
     "metadata": {},
     "output_type": "execute_result"
    }
   ],
   "source": [
    "#Subsets United States data from the original dataset.\n",
    "US_data = sub_data.loc[sub_data[\"country\"] == \"United States\"]\n",
    "#Prints the subset dataframe to prepare for plotting\n",
    "US_data"
   ]
  },
  {
   "cell_type": "code",
   "execution_count": 49,
   "metadata": {},
   "outputs": [
    {
     "data": {
      "text/plain": [
       "56081     0.001190\n",
       "56082     0.001248\n",
       "56083     0.001363\n",
       "56084     0.001532\n",
       "56085     0.001827\n",
       "           ...    \n",
       "56418    58.389491\n",
       "56419    58.433445\n",
       "56420    58.461661\n",
       "56421    58.466526\n",
       "56422    58.466526\n",
       "Name: people_fully_vaccinated, Length: 342, dtype: float64"
      ]
     },
     "execution_count": 49,
     "metadata": {},
     "output_type": "execute_result"
    }
   ],
   "source": [
    "#Changes the people_fully_vaccinated colum from string elements to integer elements\n",
    "pd.to_numeric(US_data[\"people_fully_vaccinated\"])\n"
   ]
  },
  {
   "cell_type": "code",
   "execution_count": 17,
   "metadata": {},
   "outputs": [
    {
     "data": {
      "image/png": "[encoded data removed]",
      "text/plain": [
       "<Figure size 432x288 with 1 Axes>"
      ]
     },
     "metadata": {
      "needs_background": "light"
     },
     "output_type": "display_data"
    }
   ],
   "source": [
    "#Plots the graph of US Total Vaccinations\n",
    "#MATPLOTLIB GRAPH\n",
    "\n",
    "x = US_data[\"date\"]\n",
    "y = US_data[\"people_fully_vaccinated\"]\n",
    "\n",
    "plt.plot(x,y)\n",
    "ax = plt.gca()\n",
    "ax.get_yaxis().get_major_formatter().set_scientific(False)\n",
    "plt.xticks(np.arange(0, len(x), step = 10), rotation =45)\n",
    "plt.ylim(0,max(y))\n",
    "plt.title(\"U.S. Vaccinations in Total\")\n",
    "plt.xlabel(\"Date\")\n",
    "plt.ylabel(\"Total Vaccinations\")\n",
    "\n",
    "plt.show()"
   ]
  },
  {
   "cell_type": "code",
   "execution_count": 19,
   "metadata": {},
   "outputs": [],
   "source": [
    "#Subsets Portugal Data\n",
    "Portugal_data = sub_data.loc[sub_data[\"country\"] == \"Portugal\"]"
   ]
  },
  {
   "cell_type": "code",
   "execution_count": 20,
   "metadata": {},
   "outputs": [],
   "source": [
    "#Plots the graph of U.S. Total Vaccinations\n",
    "#MATPLOTLIB GRAPH"
   ]
  },
  {
   "cell_type": "code",
   "execution_count": 22,
   "metadata": {},
   "outputs": [
    {
     "data": {
      "image/png": "[encoded data removed]",
      "text/plain": [
       "<Figure size 432x288 with 1 Axes>"
      ]
     },
     "metadata": {
      "needs_background": "light"
     },
     "output_type": "display_data"
    }
   ],
   "source": [
    "x = Portugal_data[\"date\"]\n",
    "y = Portugal_data[\"people_fully_vaccinated\"]\n",
    "\n",
    "plt.plot(x,y)\n",
    "ax = plt.gca()\n",
    "ax.get_yaxis().get_major_formatter().set_scientific(False)\n",
    "plt.xticks(np.arange(0, len(x), step = 10), rotation = 45)\n",
    "plt.ylim(0,max(y))\n",
    "plt.title(\"Portugal Vaccinations in Total\")\n",
    "plt.xlabel(\"Date\")\n",
    "plt.ylabel(\"Total Vaccinations\")\n",
    "\n",
    "plt.show()"
   ]
  },
  {
   "cell_type": "code",
   "execution_count": 23,
   "metadata": {},
   "outputs": [
    {
     "name": "stdout",
     "output_type": "stream",
     "text": [
      "56081     0.001190\n",
      "56082     0.001248\n",
      "56083     0.001363\n",
      "56084     0.001532\n",
      "56085     0.001827\n",
      "           ...    \n",
      "56418    58.389491\n",
      "56419    58.433445\n",
      "56420    58.461661\n",
      "56421    58.466526\n",
      "56422    58.466526\n",
      "Name: people_fully_vaccinated, Length: 342, dtype: float64\n"
     ]
    }
   ],
   "source": [
    "#Computing poplulation percentages - using population constant from dataset\n",
    "US_data['people_fully_vaccinated'] = (US_data['people_fully_vaccinated'].div(332915074))*100\n",
    "print(US_data['people_fully_vaccinated'])"
   ]
  },
  {
   "cell_type": "code",
   "execution_count": 31,
   "metadata": {},
   "outputs": [
    {
     "name": "stdout",
     "output_type": "stream",
     "text": [
      "42560     0.001357\n",
      "42561     0.001357\n",
      "42562     0.001357\n",
      "42563     0.001357\n",
      "42564     0.001357\n",
      "           ...    \n",
      "42805    81.618350\n",
      "42806    82.066819\n",
      "42813    84.368233\n",
      "42814    84.554240\n",
      "42819    85.341893\n",
      "Name: people_fully_vaccinated, Length: 230, dtype: float64\n"
     ]
    }
   ],
   "source": [
    "df = (Portugal_data['people_fully_vaccinated'].div(10167923.0))*100\n",
    "df2 = Portugal_data['date']\n",
    "print(df)"
   ]
  },
  {
   "cell_type": "code",
   "execution_count": 50,
   "metadata": {},
   "outputs": [
    {
     "name": "stdout",
     "output_type": "stream",
     "text": [
      "42560   2021-01-11\n",
      "42561   2021-01-12\n",
      "42562   2021-01-13\n",
      "42563   2021-01-14\n",
      "42564   2021-01-15\n",
      "           ...    \n",
      "42805   2021-09-13\n",
      "42806   2021-09-14\n",
      "42813   2021-09-21\n",
      "42814   2021-09-22\n",
      "42819   2021-09-27\n",
      "Name: date, Length: 230, dtype: datetime64[ns]\n"
     ]
    }
   ],
   "source": [
    "dates = pd.to_datetime(Portugal_data['date'])\n",
    "print(dates)\n",
    "percent = df"
   ]
  },
  {
   "cell_type": "code",
   "execution_count": 41,
   "metadata": {},
   "outputs": [
    {
     "data": {
      "image/png": "[encoded data removed]",
      "text/plain": [
       "<Figure size 432x288 with 1 Axes>"
      ]
     },
     "metadata": {
      "needs_background": "light"
     },
     "output_type": "display_data"
    }
   ],
   "source": [
    "data_time = np.asanyarray(dates)\n",
    "data_percent = np.asanyarray(percent)\n",
    "df = pd.DataFrame({'time': data_time, 'percent': data_percent })\n",
    "df.time = pd.to_datetime(df.time)\n",
    "\n",
    "regr = linear_model.LinearRegression()\n",
    "regr.fit(df.time.values.reshape(-1, 1), df['percent'].values.reshape(-1,1))\n",
    "\n",
    "#Make predictions using the testing set\n",
    "y_pred = regr.predict(df.time.values.astype(float).reshape(-1,1))\n",
    "df['pred'] = y_pred\n",
    "ax = df.plot(x='time', y='percent', color='black', style='.')\n",
    "df.plot(x='time', y='pred', color='orange', linewidth=3, ax=ax, alpha=0.5)\n",
    "ax.set_title('Linear Regression Model - Portugal')\n",
    "ax.set_xlabel('Date')\n",
    "ax.set_ylabel('Vaccination %')\n",
    "\n",
    "plt.show()"
   ]
  },
  {
   "cell_type": "code",
   "execution_count": 52,
   "metadata": {},
   "outputs": [
    {
     "data": {
      "text/html": [
       "<div>\n",
       "<style scoped>\n",
       "    .dataframe tbody tr th:only-of-type {\n",
       "        vertical-align: middle;\n",
       "    }\n",
       "\n",
       "    .dataframe tbody tr th {\n",
       "        vertical-align: top;\n",
       "    }\n",
       "\n",
       "    .dataframe thead th {\n",
       "        text-align: right;\n",
       "    }\n",
       "</style>\n",
       "<table border=\"1\" class=\"dataframe\">\n",
       "  <thead>\n",
       "    <tr style=\"text-align: right;\">\n",
       "      <th></th>\n",
       "      <th>country</th>\n",
       "      <th>date</th>\n",
       "      <th>people_fully_vaccinated</th>\n",
       "    </tr>\n",
       "  </thead>\n",
       "  <tbody>\n",
       "    <tr>\n",
       "      <th>56081</th>\n",
       "      <td>United States</td>\n",
       "      <td>2020-12-14</td>\n",
       "      <td>0.001190</td>\n",
       "    </tr>\n",
       "    <tr>\n",
       "      <th>56082</th>\n",
       "      <td>United States</td>\n",
       "      <td>2020-12-15</td>\n",
       "      <td>0.001248</td>\n",
       "    </tr>\n",
       "    <tr>\n",
       "      <th>56083</th>\n",
       "      <td>United States</td>\n",
       "      <td>2020-12-16</td>\n",
       "      <td>0.001363</td>\n",
       "    </tr>\n",
       "    <tr>\n",
       "      <th>56084</th>\n",
       "      <td>United States</td>\n",
       "      <td>2020-12-17</td>\n",
       "      <td>0.001532</td>\n",
       "    </tr>\n",
       "    <tr>\n",
       "      <th>56085</th>\n",
       "      <td>United States</td>\n",
       "      <td>2020-12-18</td>\n",
       "      <td>0.001827</td>\n",
       "    </tr>\n",
       "    <tr>\n",
       "      <th>...</th>\n",
       "      <td>...</td>\n",
       "      <td>...</td>\n",
       "      <td>...</td>\n",
       "    </tr>\n",
       "    <tr>\n",
       "      <th>56418</th>\n",
       "      <td>United States</td>\n",
       "      <td>2021-11-16</td>\n",
       "      <td>58.389491</td>\n",
       "    </tr>\n",
       "    <tr>\n",
       "      <th>56419</th>\n",
       "      <td>United States</td>\n",
       "      <td>2021-11-17</td>\n",
       "      <td>58.433445</td>\n",
       "    </tr>\n",
       "    <tr>\n",
       "      <th>56420</th>\n",
       "      <td>United States</td>\n",
       "      <td>2021-11-18</td>\n",
       "      <td>58.461661</td>\n",
       "    </tr>\n",
       "    <tr>\n",
       "      <th>56421</th>\n",
       "      <td>United States</td>\n",
       "      <td>2021-11-19</td>\n",
       "      <td>58.466526</td>\n",
       "    </tr>\n",
       "    <tr>\n",
       "      <th>56422</th>\n",
       "      <td>United States</td>\n",
       "      <td>2021-11-20</td>\n",
       "      <td>58.466526</td>\n",
       "    </tr>\n",
       "  </tbody>\n",
       "</table>\n",
       "<p>342 rows × 3 columns</p>\n",
       "</div>"
      ],
      "text/plain": [
       "             country        date  people_fully_vaccinated\n",
       "56081  United States  2020-12-14                 0.001190\n",
       "56082  United States  2020-12-15                 0.001248\n",
       "56083  United States  2020-12-16                 0.001363\n",
       "56084  United States  2020-12-17                 0.001532\n",
       "56085  United States  2020-12-18                 0.001827\n",
       "...              ...         ...                      ...\n",
       "56418  United States  2021-11-16                58.389491\n",
       "56419  United States  2021-11-17                58.433445\n",
       "56420  United States  2021-11-18                58.461661\n",
       "56421  United States  2021-11-19                58.466526\n",
       "56422  United States  2021-11-20                58.466526\n",
       "\n",
       "[342 rows x 3 columns]"
      ]
     },
     "execution_count": 52,
     "metadata": {},
     "output_type": "execute_result"
    }
   ],
   "source": [
    "dates = pd.to_datetime(US_data['date'])\n",
    "percent = df\n",
    "df = (US_data['people_fully_vaccinated'])\n",
    "df2 = US_data['date']\n",
    "US_data"
   ]
  },
  {
   "cell_type": "code",
   "execution_count": 53,
   "metadata": {},
   "outputs": [
    {
     "data": {
      "image/png": "[encoded data removed]",
      "text/plain": [
       "<Figure size 432x288 with 1 Axes>"
      ]
     },
     "metadata": {
      "needs_background": "light"
     },
     "output_type": "display_data"
    }
   ],
   "source": [
    "data_time = np.asanyarray(dates)\n",
    "data_percent = np.asanyarray(percent)\n",
    "df = pd.DataFrame({'time': data_time, 'percent': data_percent})\n",
    "df.time = pd.to_datetime(df.time)\n",
    "\n",
    "regr = linear_model.LinearRegression()\n",
    "regr.fit(df.time.values.reshape(-1,1), df['percent'].values.reshape(-1,1))\n",
    "\n",
    "#Make predictions using the testing set\n",
    "y_pred = regr.predict(df.time.values.astype(float).reshape(-1,1))\n",
    "df['pred'] = y_pred\n",
    "ax = df.plot(x='time', y='percent', color='black', style='.')\n",
    "df.plot(x='time', y='pred', color='orange', linewidth=3, ax=ax, alpha=0.5)\n",
    "ax.set_title('Linear Regression Model-U.S.')\n",
    "ax.set_xlabel('Date')\n",
    "ax.set_ylabel('Vaccination %')\n",
    "\n",
    "plt.show()"
   ]
  },
  {
   "cell_type": "code",
   "execution_count": null,
   "metadata": {},
   "outputs": [],
   "source": []
  }
 ],
 "metadata": {
  "kernelspec": {
   "display_name": "Python 3",
   "language": "python",
   "name": "python3"
  },
  "language_info": {
   "codemirror_mode": {
    "name": "ipython",
    "version": 3
   },
   "file_extension": ".py",
   "mimetype": "text/x-python",
   "name": "python",
   "nbconvert_exporter": "python",
   "pygments_lexer": "ipython3",
   "version": "3.8.3"
  }
 },
 "nbformat": 4,
 "nbformat_minor": 4
}
